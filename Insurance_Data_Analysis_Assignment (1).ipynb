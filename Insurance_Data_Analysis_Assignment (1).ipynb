{
 "cells": [
  {
   "cell_type": "markdown",
   "metadata": {},
   "source": [
    "# Assignment 2: Insurance Data Preprocessing and Classification\n",
    "\n",
    "This notebook performs the following tasks as part of the assignment:\n",
    "\n",
    "1. Load and preprocess insurance claim data using **pure Python** (no external libraries).\n",
    "2. Analyze city-wise statistics to recommend a city for shutdown.\n",
    "3. Fix and apply a rejection classifier to the `REJECTION_REMARKS` field."
   ]
  },
  {
   "cell_type": "code",
   "execution_count": 2,
   "metadata": {},
   "outputs": [
    {
     "ename": "SyntaxError",
     "evalue": "invalid syntax (3348172833.py, line 4)",
     "output_type": "error",
     "traceback": [
      "\u001b[1;36m  Cell \u001b[1;32mIn[2], line 4\u001b[1;36m\u001b[0m\n\u001b[1;33m    def load_csv(\"Insurance_auto_data.csv\"):\u001b[0m\n\u001b[1;37m                 ^\u001b[0m\n\u001b[1;31mSyntaxError\u001b[0m\u001b[1;31m:\u001b[0m invalid syntax\n"
     ]
    }
   ],
   "source": [
    "# Step 1: Load CSV manually using basic Python\n",
    "from datetime import datetime\n",
    "\n",
    "def load_csv(filepath):\n",
    "    with open(filepath, \"r\") as file:\n",
    "        lines = file.readlines()\n",
    "    headers = lines[0].strip().split(\",\")\n",
    "    rows = [line.strip().split(\",\") for line in lines[1:] if line.strip()]\n",
    "    return headers, rows"
   ]
  },
  {
   "cell_type": "code",
   "execution_count": null,
   "metadata": {},
   "outputs": [],
   "source": [
    "# Step 2: Clean the data\n",
    "def clean_data(rows):\n",
    "    cleaned = []\n",
    "    for row in rows:\n",
    "        try:\n",
    "            cleaned.append({\n",
    "                \"CLAIM_ID\": row[0],\n",
    "                \"CLAIM_DATE\": row[1],\n",
    "                \"CUSTOMER_ID\": row[2],\n",
    "                \"CLAIM_AMOUNT\": float(row[3]) if row[3] else 0.0,\n",
    "                \"PREMIUM_COLLECTED\": float(row[4]) if row[4] else 0.0,\n",
    "                \"PAID_AMOUNT\": float(row[5]) if row[5] else 0.0,\n",
    "                \"CITY\": row[6].strip().upper() if row[6] else \"UNKNOWN\",\n",
    "                \"REJECTION_REMARKS\": row[7].strip() if len(row) > 7 else \"\"\n",
    "            })\n",
    "        except Exception as e:\n",
    "            print(\"Skipping row due to error:\", e)\n",
    "    return cleaned"
   ]
  },
  {
   "cell_type": "code",
   "execution_count": null,
   "metadata": {},
   "outputs": [],
   "source": [
    "# Step 3: Load and clean data\n",
    "headers, rows = load_csv(\"Insurance_auto_data.csv\")\n",
    "data = clean_data(rows)"
   ]
  },
  {
   "cell_type": "markdown",
   "metadata": {},
   "source": [
    "## Step 4: City-wise Analysis\n",
    "We analyze the claims data per city to compute total claims, rejections, premium, paid amounts and loss ratio."
   ]
  },
  {
   "cell_type": "code",
   "execution_count": null,
   "metadata": {},
   "outputs": [],
   "source": [
    "city_stats = {}\n",
    "for row in data:\n",
    "    city = row[\"CITY\"]\n",
    "    if city not in city_stats:\n",
    "        city_stats[city] = {\"claims\": 0, \"paid\": 0.0, \"premium\": 0.0, \"rejections\": 0}\n",
    "    city_stats[city][\"claims\"] += 1\n",
    "    city_stats[city][\"paid\"] += row[\"PAID_AMOUNT\"]\n",
    "    city_stats[city][\"premium\"] += row[\"PREMIUM_COLLECTED\"]\n",
    "    if row[\"REJECTION_REMARKS\"]:\n",
    "        city_stats[city][\"rejections\"] += 1\n",
    "\n",
    "print(\"City-wise Analysis:\")\n",
    "for city, stats in city_stats.items():\n",
    "    loss_ratio = stats[\"paid\"] / stats[\"premium\"] if stats[\"premium\"] > 0 else 0\n",
    "    print(f\"{city}: Claims={stats['claims']}, Rejections={stats['rejections']}, Premium={stats['premium']:.2f}, Paid={stats['paid']:.2f}, Loss Ratio={loss_ratio:.2f}\")\n",
    "\n",
    "# Recommend city for shutdown (among specific 4)\n",
    "shutdown_candidates = ['PUNE', 'KOLKATA', 'RANCHI', 'GUWAHATI']\n",
    "filtered_city_stats = {k: v for k, v in city_stats.items() if k in shutdown_candidates}\n",
    "city_ranking = sorted(filtered_city_stats.items(), key=lambda x: (x[1][\"rejections\"], x[1][\"paid\"] / x[1][\"premium\"] if x[1][\"premium\"] > 0 else 0), reverse=True)\n",
    "recommended_city = city_ranking[0][0]\n",
    "print(f\"\\nRecommended city for shutdown: {recommended_city}\")"
   ]
  },
  {
   "cell_type": "markdown",
   "metadata": {},
   "source": [
    "## Step 5: Rejection Classifier Fix\n",
    "We classify the rejection remarks using simple rule-based logic."
   ]
  },
  {
   "cell_type": "code",
   "execution_count": null,
   "metadata": {},
   "outputs": [],
   "source": [
    "REJECTION_REASONS_MAP = {\n",
    "    \"fake_document\": \"Fake_document\",\n",
    "    \"not_covered\": \"Not_Covered\",\n",
    "    \"policy_expired\": \"Policy_expired\"\n",
    "}\n",
    "\n",
    "def contains_rejection_reason(rejection_text, reason):\n",
    "    try:\n",
    "        if rejection_text and isinstance(rejection_text, str):\n",
    "            return reason.lower() in rejection_text.lower()\n",
    "        return False\n",
    "    except Exception as e:\n",
    "        return False\n",
    "\n",
    "def map_rejection_reason(rejection_text):\n",
    "    for reason, label in REJECTION_REASONS_MAP.items():\n",
    "        if contains_rejection_reason(rejection_text, reason):\n",
    "            return label\n",
    "    return \"Unknown\"\n",
    "\n",
    "def complex_rejection_classifier(remark_text):\n",
    "    try:\n",
    "        if not isinstance(remark_text, str) or len(remark_text.strip()) == 0:\n",
    "            return \"No Remark\"\n",
    "        if contains_rejection_reason(remark_text, \"fake_document\"):\n",
    "            return \"Fake_document\"\n",
    "        elif contains_rejection_reason(remark_text, \"not_covered\"):\n",
    "            return \"Not_Covered\"\n",
    "        elif contains_rejection_reason(remark_text, \"policy_expired\"):\n",
    "            return \"Policy_expired\"\n",
    "        else:\n",
    "            return map_rejection_reason(remark_text)\n",
    "    except Exception:\n",
    "        return \"Error\""
   ]
  },
  {
   "cell_type": "code",
   "execution_count": null,
   "metadata": {},
   "outputs": [],
   "source": [
    "# Step 6: Apply rejection classifier to each row\n",
    "for row in data:\n",
    "    remark = row.get(\"REJECTION_REMARKS\", \"\")\n",
    "    row[\"REJECTION_CLASS\"] = complex_rejection_classifier(remark)\n",
    "\n",
    "print(\"\\nSample with REJECTION_CLASS:\")\n",
    "for d in data[:10]:\n",
    "    print(d[\"CLAIM_ID\"], \"|\", d[\"REJECTION_REMARKS\"], \"=>\", d[\"REJECTION_CLASS\"])"
   ]
  }
 ],
 "metadata": {
  "kernelspec": {
   "display_name": "Python 3 (ipykernel)",
   "language": "python",
   "name": "python3"
  },
  "language_info": {
   "codemirror_mode": {
    "name": "ipython",
    "version": 3
   },
   "file_extension": ".py",
   "mimetype": "text/x-python",
   "name": "python",
   "nbconvert_exporter": "python",
   "pygments_lexer": "ipython3",
   "version": "3.12.3"
  }
 },
 "nbformat": 4,
 "nbformat_minor": 4
}
